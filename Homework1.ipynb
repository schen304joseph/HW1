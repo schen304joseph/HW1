{
  "nbformat": 4,
  "nbformat_minor": 0,
  "metadata": {
    "colab": {
      "name": "Homework1.ipynb",
      "provenance": [],
      "collapsed_sections": [],
      "authorship_tag": "ABX9TyM19M1EquYNxhcU+Ydra93M",
      "include_colab_link": true
    },
    "kernelspec": {
      "name": "python3",
      "display_name": "Python 3"
    },
    "language_info": {
      "name": "python"
    }
  },
  "cells": [
    {
      "cell_type": "markdown",
      "metadata": {
        "id": "view-in-github",
        "colab_type": "text"
      },
      "source": [
        "<a href=\"https://colab.research.google.com/github/schen304joseph/HW1/blob/main/Homework1.ipynb\" target=\"_parent\"><img src=\"https://colab.research.google.com/assets/colab-badge.svg\" alt=\"Open In Colab\"/></a>"
      ]
    },
    {
      "cell_type": "code",
      "metadata": {
        "colab": {
          "base_uri": "https://localhost:8080/"
        },
        "id": "MHuB8eDU67LE",
        "outputId": "798e2904-b11f-4fc0-8c39-a3a04320be3f"
      },
      "source": [
        "from scipy.optimize import minimize\n",
        "\n",
        "fun = lambda x: (x[0] - x[1])**2 + (x[1]+x[2]-2)**2 + (x[3]-1)**2 + (x[4]-1)**2\n",
        "cons = ({'type': 'eq', 'fun': lambda x:  x[0] + 3 * x[1] },\n",
        "        {'type': 'eq', 'fun': lambda x: x[2] + x[3] - 2*x[4]},\n",
        "        {'type': 'eq', 'fun': lambda x: x[1] - x[4] })\n",
        "bnds = ((-10, 10), (-10, 10),(-10, 10),(-10, 10),(-10, 10))\n",
        "res = minimize(fun, (1,1,1,1,1), method='SLSQP', bounds=bnds,\n",
        "               constraints=cons)\n",
        "res"
      ],
      "execution_count": null,
      "outputs": [
        {
          "output_type": "execute_result",
          "data": {
            "text/plain": [
              "     fun: 4.09302326452976\n",
              "     jac: array([-2.04664832, -0.18578869, -2.23243701, -2.23257673, -1.48833793])\n",
              " message: 'Optimization terminated successfully.'\n",
              "    nfev: 44\n",
              "     nit: 6\n",
              "    njev: 6\n",
              "  status: 0\n",
              " success: True\n",
              "       x: array([-0.76749312,  0.25583104,  0.62795044, -0.11628835,  0.25583104])"
            ]
          },
          "metadata": {},
          "execution_count": 8
        }
      ]
    }
  ]
}