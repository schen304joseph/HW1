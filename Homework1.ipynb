{
  "nbformat": 4,
  "nbformat_minor": 0,
  "metadata": {
    "colab": {
      "name": "Homework1.ipynb",
      "provenance": [],
      "collapsed_sections": [],
      "authorship_tag": "ABX9TyO4rAZAp1JaMjeYB9U0ZEBH",
      "include_colab_link": true
    },
    "kernelspec": {
      "name": "python3",
      "display_name": "Python 3"
    },
    "language_info": {
      "name": "python"
    }
  },
  "cells": [
    {
      "cell_type": "markdown",
      "metadata": {
        "id": "view-in-github",
        "colab_type": "text"
      },
      "source": [
        "<a href=\"https://colab.research.google.com/github/schen304joseph/HW1/blob/main/Homework1.ipynb\" target=\"_parent\"><img src=\"https://colab.research.google.com/assets/colab-badge.svg\" alt=\"Open In Colab\"/></a>"
      ]
    },
    {
      "cell_type": "code",
      "metadata": {
        "colab": {
          "base_uri": "https://localhost:8080/"
        },
        "id": "MHuB8eDU67LE",
        "outputId": "63d5b8ff-88e7-4b1e-e18c-19397184d5c8"
      },
      "source": [
        "from scipy.optimize import minimize\n",
        "fun = lambda x: (x[0] - x[1])**2 + (x[1]+x[2]-2)**2 + (x[3]-1)**2 + (x[4]-1)**2\n",
        "cons = ({'type': 'eq', 'fun': lambda x:  x[0] + 3 * x[1] },\n",
        "        {'type': 'eq', 'fun': lambda x: x[2] + x[3] - 2*x[4]},\n",
        "        {'type': 'eq', 'fun': lambda x: x[1] - x[4] })\n",
        "bnds = ((-10, 10), (-10, 10),(-10, 10),(-10, 10),(-10, 10))\n",
        "res = minimize(fun, (1,1,1,1,1), method='SLSQP', bounds=bnds,\n",
        "               constraints=cons)\n",
        "res"
      ],
      "execution_count": 10,
      "outputs": [
        {
          "output_type": "execute_result",
          "data": {
            "text/plain": [
              "     fun: 4.09302325588931\n",
              "     jac: array([-2.04579037, -0.18800253, -2.2337929 , -2.23186433, -1.48855239])\n",
              " message: 'Optimization terminated successfully.'\n",
              "    nfev: 51\n",
              "     nit: 7\n",
              "    njev: 7\n",
              "  status: 0\n",
              " success: True\n",
              "       x: array([-0.76743912,  0.25581304,  0.62791188, -0.1162858 ,  0.25581304])"
            ]
          },
          "metadata": {},
          "execution_count": 10
        }
      ]
    },
    {
      "cell_type": "code",
      "metadata": {
        "colab": {
          "base_uri": "https://localhost:8080/"
        },
        "id": "sqa8F_rW95EM",
        "outputId": "48730655-2bfd-4781-d563-ef53774754cf"
      },
      "source": [
        "from scipy.optimize import minimize\n",
        "fun = lambda x: (x[0] - x[1])**2 + (x[1]+x[2]-2)**2 + (x[3]-1)**2 + (x[4]-1)**2\n",
        "cons = ({'type': 'eq', 'fun': lambda x:  x[0] + 3 * x[1] },\n",
        "        {'type': 'eq', 'fun': lambda x: x[2] + x[3] - 2*x[4]},\n",
        "        {'type': 'eq', 'fun': lambda x: x[1] - x[4] })\n",
        "bnds = ((-10, 10), (-10, 10),(-10, 10),(-10, 10),(-10, 10))\n",
        "res = minimize(fun, (1,2,3,4,5), method='SLSQP', bounds=bnds,\n",
        "               constraints=cons)\n",
        "res"
      ],
      "execution_count": 11,
      "outputs": [
        {
          "output_type": "execute_result",
          "data": {
            "text/plain": [
              "     fun: 4.09302325588931\n",
              "     jac: array([-2.04579037, -0.18800253, -2.2337929 , -2.23186433, -1.48855239])\n",
              " message: 'Optimization terminated successfully.'\n",
              "    nfev: 51\n",
              "     nit: 7\n",
              "    njev: 7\n",
              "  status: 0\n",
              " success: True\n",
              "       x: array([-0.76743912,  0.25581304,  0.62791188, -0.1162858 ,  0.25581304])"
            ]
          },
          "metadata": {},
          "execution_count": 11
        }
      ]
    },
    {
      "cell_type": "markdown",
      "metadata": {
        "id": "-8N-E-kV-DpP"
      },
      "source": [
        "(1,1,1,1,1) are used for the first initial guess and (1,2,3,4,5) are used for the second initial guess. The result suggests that changing the initial guess doesn't affect the final result.\n"
      ]
    }
  ]
}